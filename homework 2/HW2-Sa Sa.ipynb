{
 "cells": [
  {
   "cell_type": "code",
   "execution_count": 1,
   "metadata": {},
   "outputs": [],
   "source": [
    "import requests\n",
    "import bs4\n",
    "import csv\n",
    "from bs4 import BeautifulSoup"
   ]
  },
  {
   "cell_type": "code",
   "execution_count": 2,
   "metadata": {},
   "outputs": [],
   "source": [
    "def scrape_one_page(url):\n",
    "    r = requests.get(url)\n",
    "    mypage = BeautifulSoup(r.text)\n",
    "    myitem = mypage.find_all('h2',attrs = {'class':'ellipsis'})\n",
    "    mybrand=[]\n",
    "    myproduct=[]\n",
    "    for i in range(0,int(len(myitem)/2)):\n",
    "        myproduct.append(myitem[2*i+1].text.strip())\n",
    "        mybrand.append(myitem[2*i].text.strip())\n",
    "    myp=mypage.find_all('p', attrs = {'class': 'fon-price'})\n",
    "    myprice = []\n",
    "    my  = []\n",
    "    for myp in mypage.find_all('p', attrs = {'class': 'fon-price'}):\n",
    "        myprice.append(myp.text)\n",
    "    myprice.pop()\n",
    "    for i in range(0,len(mybrand)):\n",
    "        my.append([mybrand[i],myproduct[i],myprice[i]])\n",
    "    return my"
   ]
  },
  {
   "cell_type": "code",
   "execution_count": 3,
   "metadata": {},
   "outputs": [
    {
     "name": "stderr",
     "output_type": "stream",
     "text": [
      "c:\\python.36\\lib\\site-packages\\bs4\\__init__.py:181: UserWarning: No parser was explicitly specified, so I'm using the best available HTML parser for this system (\"html5lib\"). This usually isn't a problem, but if you run this code on another system, or in a different virtual environment, it may use a different parser and behave differently.\n",
      "\n",
      "The code that caused this warning is on line 193 of the file c:\\python.36\\lib\\runpy.py. To get rid of this warning, change code that looks like this:\n",
      "\n",
      " BeautifulSoup(YOUR_MARKUP})\n",
      "\n",
      "to this:\n",
      "\n",
      " BeautifulSoup(YOUR_MARKUP, \"html5lib\")\n",
      "\n",
      "  markup_type=markup_type))\n"
     ]
    },
    {
     "data": {
      "text/plain": [
       "[['ANESSA', 'ANESSA Perfect UV Sunscreen Aqua Booster Se...', 'HK$269.0'],\n",
       " ['BIORE', 'SPF 50+ PA++++ Watery Essence Water Base (5...', 'HK$84.9'],\n",
       " ['SUISSE PROGRAMME', 'Sun Block Lotion SPF30 (50ml)', 'HK$192.0'],\n",
       " ['Coppertone', 'SPF50 PURE & SIMPLE LOTION (237ml)', 'HK$98.0'],\n",
       " ['BIORE', 'BIORE UV AQUA RICH WATERY GEL SPF50 (90ml)', 'HK$84.9'],\n",
       " ['La Prairie', 'Cellular Radiance Emulsion SPF 30 (50ml)', 'HK$2025.0'],\n",
       " ['Banana Boat', 'UltraMist Sport Performance Sunscreen SPF 1...', 'HK$135.9'],\n",
       " ['Clarins', 'UV Plus Anti-Pollution Day Screen Multi-Pro...', 'HK$323.0'],\n",
       " ['Coppertone', 'UltraGUARD® Continuous Spray (177ml)', 'HK$98.0'],\n",
       " ['Elizabeth Arden',\n",
       "  'Prevage City Smart SPF50 Hydrating Shield (...',\n",
       "  'HK$488.0'],\n",
       " ['NOV', 'SPF32PA+++ NOV UV MILK EX N/A 35G (35g)', 'HK$200.0'],\n",
       " ['Lancome', 'UV Expert Youth Shield™ Milky Bright (50ml)', 'HK$440.0'],\n",
       " ['Sofina', 'Whitening UV Cut Emulsion SP SPF50+/PA++++ ...', 'HK$224.0'],\n",
       " ['NOV', 'SPF50+PA++++NOV UV SHIELD EX (30g)', 'HK$250.0'],\n",
       " ['SUISSE PROGRAMME', 'Total Sun Protection Cream (50ml)', 'HK$396.0'],\n",
       " ['Banana Boat', 'Aloe Vera Gel (230g)', 'HK$72.9'],\n",
       " ['Shiseido', 'WetForce Perfect UV Protector SPF50+ / PA++...', 'HK$290.0'],\n",
       " ['AJUSTE', 'Ajuste UV Spray SPF 50+ PA++++, Clean Savon...', 'HK$78.0'],\n",
       " ['Kose Cosmeport', 'SPF50+ PA++++ UV Protect Gel (100ml)', 'HK$69.0'],\n",
       " ['BIORE', 'BIORE UV AQUA RICH ESSENCE SPF50 (ROSE) (50...', 'HK$84.9'],\n",
       " ['Banana Boat', 'Banana Boat Ultra Protect Sunscreen Lotion ...', 'HK$87.9'],\n",
       " ['LANEIGE', 'Sun Block Supreme SPF50+PA+++ (50ml)', 'HK$140.0'],\n",
       " ['LANEIGE', 'Sun Block Aqua+ SPF35 PA++ (50ml)', 'HK$140.0'],\n",
       " ['Shiseido', 'Expert Sun Aging Protection Lotion Plus SPF...', 'HK$290.0'],\n",
       " ['Banana Boat', 'Banana Boat Ultra Protect Sunscreen Spray S...', 'HK$124.9'],\n",
       " ['BIORE', 'Biore UV Aqua Rich SPF30 (90ml)', 'HK$84.9'],\n",
       " ['Banana Boat', 'Sport Sunscreen Lotion SPF110    (90ml)', 'HK$98.9'],\n",
       " ['ZA', 'SPF50+PA++++POWER BLOCK UV, N/A, 50ML  (50m...', 'HK$115.0'],\n",
       " ['Kose Cosmeport',\n",
       "  'Sun Cut Waterproof UV Gel (SPF50+PA++++) (1...',\n",
       "  'HK$79.0'],\n",
       " ['Mentholatum', 'Sunplay Skin Aqua UV Whitening Moisture Gel...', 'HK$76.9'],\n",
       " ['Banana Boat', 'Sport Coolzone Instantly Cool Refreshes Sun...', 'HK$124.9'],\n",
       " ['Banana Boat', 'Banana Boat Sun Comfort Sunscreen Continuou...', 'HK$124.9'],\n",
       " ['La Roche-Posay',\n",
       "  'DERMO-PEDIATRICS SPRAY SPF50+ PA++++ (200ml...',\n",
       "  'HK$269.0'],\n",
       " ['AJUSTE', 'UV spray SPF50+ PA++++ (200g)', 'HK$78.0'],\n",
       " ['Mentholatum', 'Sunplay Super Block UV Body Mist SPF130/PA+...', 'HK$139.9'],\n",
       " ['Banana Boat', 'Sport Coolzone Sunscreen Lotion SPF50PA++++...', 'HK$114.9'],\n",
       " ['Banana Boat', 'Banana Boat Ultra Protect Sunscreen Continu...', 'HK$135.9'],\n",
       " ['Nuxe', 'Daily UV Protector SPF30 PA+++ (30ml)', 'HK$268.0'],\n",
       " ['Mentholatum', 'Sunplay Skin Aqua Super Moisture UV Mist SP...', 'HK$101.9'],\n",
       " ['Hadatuko', 'Daily Protector SPF24 PA++(Pink) (40ml)', 'HK$229.0'],\n",
       " ['Hadatuko', 'Perfect UV Cut Spray SPF50+ PA++++ (150ml)', 'HK$198.0'],\n",
       " ['Soo Beauté', 'Aloe Vera Sun Protection Stick SPF50+ PA+++...', 'HK$84.0'],\n",
       " ['Soo Beauté', 'Aloe Vera Triple Defence Sun Spray SPF50+ P...', 'HK$50.0'],\n",
       " ['Missha', 'Missha x Line Friends All Around Safe Block...', 'HK$85.0'],\n",
       " ['Banana Boat', 'Sport Coolzone After Sun Gel (226g)', 'HK$72.9'],\n",
       " ['Dr. Jart+', 'Every Sun Day Sun Cream Special Set (with D...', 'HK$236.0'],\n",
       " ['SNP', 'SPF 50+ PA+++ Aqua Cooling Sun Spray (150ml...', 'HK$128.0'],\n",
       " ['Dr. Jart+', 'Every Sun day Sun Fluid Special Set (with D...', 'HK$264.0'],\n",
       " ['DR.ORACLE', 'Brightening Sun Block SPF50+ PA+++ (40ml)', 'HK$78.0'],\n",
       " ['Dr. Jart+', 'Every Sun Day Tone up Sunscreen SPF50+PA+++...', 'HK$236.0'],\n",
       " ['KISS MY FACE', 'Face factor SPF 50 (59ml)', 'HK$118.0'],\n",
       " ['The Saem', 'Eco Earth Power Perfection Waterproof Sunbl...', 'HK$130.0'],\n",
       " ['Miccosmo', 'Adult Block D SPRF 50+ PA+++ (30ml)', 'HK$105.0']]"
      ]
     },
     "execution_count": 3,
     "metadata": {},
     "output_type": "execute_result"
    }
   ],
   "source": [
    "url_page1='http://hongkong.sasa.com/SasaWeb/eng/category/listByCategory.jspa?brandId=0&categoryId=318011200&functionId=0'\n",
    "page1=scrape_one_page (url_page1)\n",
    "page_next=[]\n",
    "for q in range(1,3):\n",
    "    page_number=str(q+1)\n",
    "    url_next=url_page1 + \"&page=\" + page_number\n",
    "    page_next.extend(scrape_one_page(url_next))\n",
    "page_all=page1+page_next\n",
    "page_all"
   ]
  },
  {
   "cell_type": "code",
   "execution_count": 4,
   "metadata": {},
   "outputs": [],
   "source": [
    "with open('suncare.csv', 'w', encoding='utf-8',newline='') as csvfile:\n",
    "    spamwriter = csv.writer(csvfile)\n",
    "    spamwriter.writerows(page_all)"
   ]
  }
 ],
 "metadata": {
  "kernelspec": {
   "display_name": "Python 3",
   "language": "python",
   "name": "python3"
  },
  "language_info": {
   "codemirror_mode": {
    "name": "ipython",
    "version": 3
   },
   "file_extension": ".py",
   "mimetype": "text/x-python",
   "name": "python",
   "nbconvert_exporter": "python",
   "pygments_lexer": "ipython3",
   "version": "3.6.4"
  }
 },
 "nbformat": 4,
 "nbformat_minor": 2
}
