{
 "cells": [
  {
   "cell_type": "code",
   "execution_count": 2,
   "metadata": {},
   "outputs": [],
   "source": [
    "import requests\n",
    "import bs4\n",
    "import csv\n",
    "from bs4 import BeautifulSoup"
   ]
  },
  {
   "cell_type": "code",
   "execution_count": null,
   "metadata": {},
   "outputs": [],
   "source": []
  },
  {
   "cell_type": "code",
   "execution_count": 123,
   "metadata": {},
   "outputs": [
    {
     "name": "stderr",
     "output_type": "stream",
     "text": [
      "/Users/p17417783/Desktop/exercise/venv/lib/python3.6/site-packages/bs4/__init__.py:181: UserWarning: No parser was explicitly specified, so I'm using the best available HTML parser for this system (\"html5lib\"). This usually isn't a problem, but if you run this code on another system, or in a different virtual environment, it may use a different parser and behave differently.\n",
      "\n",
      "The code that caused this warning is on line 193 of the file /Library/Frameworks/Python.framework/Versions/3.6/lib/python3.6/runpy.py. To get rid of this warning, change code that looks like this:\n",
      "\n",
      " BeautifulSoup(YOUR_MARKUP})\n",
      "\n",
      "to this:\n",
      "\n",
      " BeautifulSoup(YOUR_MARKUP, \"html5lib\")\n",
      "\n",
      "  markup_type=markup_type))\n"
     ]
    }
   ],
   "source": [
    "mypage = BeautifulSoup(r.text)"
   ]
  },
  {
   "cell_type": "code",
   "execution_count": 124,
   "metadata": {},
   "outputs": [],
   "source": [
    "myitem = mypage.find_all('h2',attrs = {'class':'ellipsis'})"
   ]
  },
  {
   "cell_type": "code",
   "execution_count": 125,
   "metadata": {},
   "outputs": [
    {
     "data": {
      "text/plain": [
       "26"
      ]
     },
     "execution_count": 125,
     "metadata": {},
     "output_type": "execute_result"
    }
   ],
   "source": [
    "len(myitem)"
   ]
  },
  {
   "cell_type": "code",
   "execution_count": 126,
   "metadata": {},
   "outputs": [],
   "source": [
    "mybrand=[]\n",
    "myproduct=[]\n",
    "for i in range(0,int(len(myitem)/2)):\n",
    "    myproduct.append(myitem[2*i+1].text.strip())\n",
    "    mybrand.append(myitem[2*i].text.strip())"
   ]
  },
  {
   "cell_type": "code",
   "execution_count": 127,
   "metadata": {},
   "outputs": [
    {
     "data": {
      "text/plain": [
       "13"
      ]
     },
     "execution_count": 127,
     "metadata": {},
     "output_type": "execute_result"
    }
   ],
   "source": [
    "len(myproduct)"
   ]
  },
  {
   "cell_type": "code",
   "execution_count": 128,
   "metadata": {},
   "outputs": [],
   "source": [
    "myp=mypage.find_all('p', attrs = {'class': 'fon-price'})"
   ]
  },
  {
   "cell_type": "code",
   "execution_count": 129,
   "metadata": {},
   "outputs": [],
   "source": [
    "myprice = []\n",
    "for myp in mypage.find_all('p', attrs = {'class': 'fon-price'}):\n",
    "    myprice.append(myp.text)"
   ]
  },
  {
   "cell_type": "code",
   "execution_count": 130,
   "metadata": {},
   "outputs": [
    {
     "data": {
      "text/plain": [
       "'now：¥1339.00'"
      ]
     },
     "execution_count": 130,
     "metadata": {},
     "output_type": "execute_result"
    }
   ],
   "source": [
    "myprice.pop()"
   ]
  },
  {
   "cell_type": "code",
   "execution_count": 131,
   "metadata": {},
   "outputs": [
    {
     "data": {
      "text/plain": [
       "13"
      ]
     },
     "execution_count": 131,
     "metadata": {},
     "output_type": "execute_result"
    }
   ],
   "source": [
    "len(myprice)"
   ]
  },
  {
   "cell_type": "code",
   "execution_count": 10,
   "metadata": {},
   "outputs": [],
   "source": [
    "def scrape_one_page(url):\n",
    "    r = requests.get(url)\n",
    "    mypage = BeautifulSoup(r.text)\n",
    "    myitem = mypage.find_all('h2',attrs = {'class':'ellipsis'})\n",
    "    mybrand=[]\n",
    "    myproduct=[]\n",
    "    for i in range(0,int(len(myitem)/2)):\n",
    "        myproduct.append(myitem[2*i+1].text.strip())\n",
    "        mybrand.append(myitem[2*i].text.strip())\n",
    "    myp=mypage.find_all('p', attrs = {'class': 'fon-price'})\n",
    "    myprice = []\n",
    "    for myp in mypage.find_all('p', attrs = {'class': 'fon-price'}):\n",
    "        myprice.append(myp.text)\n",
    "    myprice.pop()\n",
    "    lists = {\n",
    "        'brand':mybrand,\n",
    "        'product':myproduct,\n",
    "        'price':myprice\n",
    "    }\n",
    "    return lists\n",
    "    "
   ]
  },
  {
   "cell_type": "code",
   "execution_count": 11,
   "metadata": {},
   "outputs": [],
   "source": [
    "urls=[\n",
    "'http://hongkong.sasa.com/SasaWeb/eng/category/listByCategory.jspa?brandId=0&categoryId=318011200&sortBy=11&page=1',\n",
    "'http://hongkong.sasa.com/SasaWeb/eng/category/listByCategory.jspa?brandId=0&categoryId=318011200&sortBy=11&page=2',\n",
    "'http://hongkong.sasa.com/SasaWeb/eng/category/listByCategory.jspa?brandId=0&categoryId=318011200&sortBy=11&page=3'\n",
    "]"
   ]
  },
  {
   "cell_type": "code",
   "execution_count": 12,
   "metadata": {},
   "outputs": [
    {
     "name": "stderr",
     "output_type": "stream",
     "text": [
      "/Users/p17417783/Desktop/exercise/venv/lib/python3.6/site-packages/bs4/__init__.py:181: UserWarning: No parser was explicitly specified, so I'm using the best available HTML parser for this system (\"html5lib\"). This usually isn't a problem, but if you run this code on another system, or in a different virtual environment, it may use a different parser and behave differently.\n",
      "\n",
      "The code that caused this warning is on line 193 of the file /Library/Frameworks/Python.framework/Versions/3.6/lib/python3.6/runpy.py. To get rid of this warning, change code that looks like this:\n",
      "\n",
      " BeautifulSoup(YOUR_MARKUP})\n",
      "\n",
      "to this:\n",
      "\n",
      " BeautifulSoup(YOUR_MARKUP, \"html5lib\")\n",
      "\n",
      "  markup_type=markup_type))\n"
     ]
    }
   ],
   "source": [
    "suncare = []\n",
    "for url in urls:\n",
    "    lists = scrape_one_page(url)\n",
    "    suncare.append(lists)"
   ]
  },
  {
   "cell_type": "code",
   "execution_count": 14,
   "metadata": {},
   "outputs": [
    {
     "data": {
      "text/plain": [
       "[{'brand': [\"Kiehl's\",\n",
       "   'Clarins',\n",
       "   'ANESSA',\n",
       "   'BIORE',\n",
       "   'Clarins',\n",
       "   'ANESSA',\n",
       "   'Coppertone',\n",
       "   'BIORE',\n",
       "   'La Prairie',\n",
       "   'Sofina',\n",
       "   'Banana Boat',\n",
       "   'BIORE',\n",
       "   'Coppertone',\n",
       "   'Kose',\n",
       "   'Shiseido',\n",
       "   'Elizabeth Arden',\n",
       "   'ANESSA',\n",
       "   'Banana Boat',\n",
       "   'Kose Cosmeport',\n",
       "   'SUISSE PROGRAMME',\n",
       "   'CYBER COLORS',\n",
       "   'Lancome'],\n",
       "  'price': ['HK$359.0',\n",
       "   'HK$323.0',\n",
       "   'HK$269.0',\n",
       "   'HK$84.9',\n",
       "   'HK$323.0',\n",
       "   'HK$89.0',\n",
       "   'HK$98.0',\n",
       "   'HK$84.9',\n",
       "   'HK$2025.0',\n",
       "   'HK$224.0',\n",
       "   'HK$135.9',\n",
       "   'HK$71.9',\n",
       "   'HK$98.0',\n",
       "   'HK$89.0',\n",
       "   'HK$290.0',\n",
       "   'HK$488.0',\n",
       "   'HK$89.0',\n",
       "   'HK$72.9',\n",
       "   'HK$69.0',\n",
       "   'HK$396.0',\n",
       "   'HK$139.0',\n",
       "   'HK$440.0'],\n",
       "  'product': ['Ultra Light Daily UV Defense SPF50 PA+++ (6...',\n",
       "   'Day Screen Multi-Protection SPF50/PA++++ Ro...',\n",
       "   'ANESSA Perfect UV Sunscreen Aqua Booster Se...',\n",
       "   'SPF 50+ PA++++ Watery Essence Water Base (5...',\n",
       "   'UV Plus Anti-Pollution Day Screen Multi-Pro...',\n",
       "   'ANESSA Perfect UV Sunscreen Aqua Booster SP...',\n",
       "   'SPF50 PURE & SIMPLE LOTION (237ml)',\n",
       "   'BIORE UV AQUA RICH WATERY GEL SPF50 (90ml)',\n",
       "   'Cellular Radiance Emulsion SPF 30 (50ml)',\n",
       "   'Whitening UV Cut Emulsion SP SPF50+/PA++++ ...',\n",
       "   'UltraMist Sport Performance Sunscreen SPF 1...',\n",
       "   'Biore UV Milk SPF50+PA++++ (40ml)',\n",
       "   'UltraGUARD® Continuous Spray (177ml)',\n",
       "   'SPF50+PA++++ Protect Spray (90g)',\n",
       "   'WetForce Perfect UV Protector SPF50+ / PA++...',\n",
       "   'Prevage City Smart SPF50 Hydrating Shield (...',\n",
       "   'ANESSA Essence UV Sunscreen Aqua Booster SP...',\n",
       "   'Aloe Vera Gel (230g)',\n",
       "   'SPF50+ PA++++ UV Protect Gel (100ml)',\n",
       "   'Total Sun Protection Cream (50ml)',\n",
       "   'SPF50+PA++++ Ultra Whitening UV Protect Spr...',\n",
       "   'UV Expert Youth Shield™ Milky Bright (50ml)']},\n",
       " {'brand': ['Sofina',\n",
       "   'NOV',\n",
       "   'Banana Boat',\n",
       "   'Kose Cosmeport',\n",
       "   'ZA',\n",
       "   'NOV',\n",
       "   'Banana Boat',\n",
       "   'BLACKLEMON',\n",
       "   'Banana Boat',\n",
       "   'Kose Cosmeport',\n",
       "   'LANEIGE',\n",
       "   'Banana Boat',\n",
       "   'La Roche-Posay',\n",
       "   'Mentholatum',\n",
       "   'Banana Boat',\n",
       "   'Nuxe',\n",
       "   'Hadatuko',\n",
       "   'LANEIGE',\n",
       "   'Banana Boat',\n",
       "   'Mentholatum',\n",
       "   'Banana Boat',\n",
       "   'Hadatuko'],\n",
       "  'price': ['HK$224.0',\n",
       "   'HK$250.0',\n",
       "   'HK$87.9',\n",
       "   'HK$69.0',\n",
       "   'HK$105.0',\n",
       "   'HK$200.0',\n",
       "   'HK$124.9',\n",
       "   'HK$229.0',\n",
       "   'HK$129.9',\n",
       "   'HK$79.0',\n",
       "   'HK$140.0',\n",
       "   'HK$124.9',\n",
       "   'HK$269.0',\n",
       "   'HK$76.9',\n",
       "   'HK$114.9',\n",
       "   'HK$268.0',\n",
       "   'HK$183.2',\n",
       "   'HK$140.0',\n",
       "   'HK$124.9',\n",
       "   'HK$139.9',\n",
       "   'HK$135.9',\n",
       "   'HK$198.0'],\n",
       "  'product': ['Whitening UV Cut Emulsion SP SPF50+/PA++++ ...',\n",
       "   'SPF50+PA++++NOV UV SHIELD EX (30g)',\n",
       "   'Banana Boat Ultra Protect Sunscreen Lotion ...',\n",
       "   'Suncut Water Splash UV Protect Gel SPF50+ P...',\n",
       "   'TRUE WHITE EX PERFECT PROTECTOR  (30g)',\n",
       "   'SPF32PA+++NOV UV LOTION EX (35ml)',\n",
       "   'Banana Boat Ultra Protect Sunscreen Spray S...',\n",
       "   'BlackLemon Folding Umbrella - Air (Lemon) (...',\n",
       "   'Sun Protect & Hydrate 2in1 Spray SPF50 (170...',\n",
       "   'Sun Cut Waterproof UV Gel (SPF50+PA++++) (1...',\n",
       "   'Sun Block Supreme SPF50+PA+++ (50ml)',\n",
       "   'Sport Coolzone Instantly Cool Refreshes Sun...',\n",
       "   'DERMO-PEDIATRICS SPRAY SPF50+ PA++++ (200ml...',\n",
       "   'Sunplay Skin Aqua UV Whitening Moisture Gel...',\n",
       "   'Sport Coolzone Sunscreen Lotion SPF50PA++++...',\n",
       "   'Daily UV Protector SPF30 PA+++ (30ml)',\n",
       "   'Daily Protector SPF24 PA++(Pink) (40ml)',\n",
       "   'Sun Block Aqua+ SPF35 PA++ (50ml)',\n",
       "   'Banana Boat Sun Comfort Sunscreen Continuou...',\n",
       "   'Sunplay Super Block UV Body Mist SPF130/PA+...',\n",
       "   'Banana Boat Ultra Protect Sunscreen Continu...',\n",
       "   'Perfect UV Cut Spray SPF50+ PA++++ (150ml)']},\n",
       " {'brand': ['Missha',\n",
       "   'Soo Beauté',\n",
       "   'Soo Beauté',\n",
       "   'Banana Boat',\n",
       "   'Mentholatum',\n",
       "   'Banana Boat',\n",
       "   'Dr. Jart+',\n",
       "   'Dr. Jart+',\n",
       "   'DR.ORACLE',\n",
       "   'SNP',\n",
       "   'KISS MY FACE',\n",
       "   'Dr. Jart+',\n",
       "   'Miccosmo'],\n",
       "  'price': ['HK$85.0',\n",
       "   'HK$60.0',\n",
       "   'HK$98.0',\n",
       "   'HK$72.9',\n",
       "   'HK$69.9',\n",
       "   'HK$85.9',\n",
       "   'HK$236.0',\n",
       "   'HK$264.0',\n",
       "   'HK$184.0',\n",
       "   'HK$128.0',\n",
       "   'HK$118.0',\n",
       "   'HK$236.0',\n",
       "   'HK$105.0'],\n",
       "  'product': ['Missha x Line Friends All Around Safe Block...',\n",
       "   'Aloe Vera Triple Defence Sun Spray SPF50+ P...',\n",
       "   'Aloe Vera Sun Protection Stick SPF50+ PA+++...',\n",
       "   'Sport Coolzone After Sun Gel (226g)',\n",
       "   'Sunplay Skin Aqua UV Super Moisture Essence...',\n",
       "   'Sport Sunscreen Lotion SPF50    (90ml)',\n",
       "   'Every Sun Day Sun Cream Special Set (with D...',\n",
       "   'Every Sun day Sun Fluid Special Set (with D...',\n",
       "   'B-Hydro Sunblock SPF50+ PA+++ (40ml)',\n",
       "   'SPF 50+ PA+++ Aqua Cooling Sun Spray (150ml...',\n",
       "   'Face factor SPF 50 (59ml)',\n",
       "   'Every Sun Day Tone up Sunscreen SPF50+PA+++...',\n",
       "   'Adult Block D SPRF 50+ PA+++ (30ml)']}]"
      ]
     },
     "execution_count": 14,
     "metadata": {},
     "output_type": "execute_result"
    }
   ],
   "source": [
    "suncare"
   ]
  },
  {
   "cell_type": "code",
   "execution_count": 19,
   "metadata": {},
   "outputs": [],
   "source": [
    "with open('eggs.csv', 'w', newline='') as csvfile:\n",
    "    spamwriter = csv.writer(csvfile, delimiter=',',\n",
    "                            quotechar='\"', quoting=csv.QUOTE_MINIMAL)\n",
    "    for lists in suncare:\n",
    "        spamwriter.writerow([\n",
    "            lists['brand'],\n",
    "            lists['price'],\n",
    "            lists['product']\n",
    "        ])"
   ]
  },
  {
   "cell_type": "code",
   "execution_count": null,
   "metadata": {},
   "outputs": [],
   "source": []
  }
 ],
 "metadata": {
  "kernelspec": {
   "display_name": "Python 3",
   "language": "python",
   "name": "python3"
  },
  "language_info": {
   "codemirror_mode": {
    "name": "ipython",
    "version": 3
   },
   "file_extension": ".py",
   "mimetype": "text/x-python",
   "name": "python",
   "nbconvert_exporter": "python",
   "pygments_lexer": "ipython3",
   "version": "3.6.4"
  }
 },
 "nbformat": 4,
 "nbformat_minor": 2
}
